{
  "nbformat": 4,
  "nbformat_minor": 0,
  "metadata": {
    "colab": {
      "name": "Number Guessing.ipynb",
      "provenance": [],
      "collapsed_sections": [],
      "authorship_tag": "ABX9TyPsTktnuPpy55fSJVHvhNka",
      "include_colab_link": true
    },
    "kernelspec": {
      "name": "python3",
      "display_name": "Python 3"
    },
    "language_info": {
      "name": "python"
    }
  },
  "cells": [
    {
      "cell_type": "markdown",
      "metadata": {
        "id": "view-in-github",
        "colab_type": "text"
      },
      "source": [
        "<a href=\"https://colab.research.google.com/github/ishita356/Unicompiler-Intership/blob/main/Number_Guessing.ipynb\" target=\"_parent\"><img src=\"https://colab.research.google.com/assets/colab-badge.svg\" alt=\"Open In Colab\"/></a>"
      ]
    },
    {
      "cell_type": "markdown",
      "source": [
        "**Task-1 Number Guessing**"
      ],
      "metadata": {
        "id": "GgCu0tMeWeXa"
      }
    },
    {
      "cell_type": "code",
      "source": [
        "import random as r\n",
        "random_no=r.randint(1,100)\n",
        "print(\"______________Welcome to number Guessing________________\")\n",
        "name=input(\"Enter your name:\")\n",
        "print(\"Hi \" + name)\n",
        "turns=1\n",
        "\n",
        "while (turns<6):\n",
        " print(\"......................................................\")\n",
        " guess=int(input(\"Enter any number between 1 to 100:\"))\n",
        " turns =turns+1\n",
        " print(f'You have exausted 1 turn,remaining  {6-turns} chances left')\n",
        "\n",
        " if(guess==random_no):\n",
        "   print(\"Congratulations! You Guessed Right :) \")\n",
        "   break\n",
        "\n",
        " elif(guess>random_no):\n",
        "   print(\"Hint:The Number is Smaller than Your Guessed Number\")\n",
        "\n",
        " elif(guess<random_no):\n",
        "  print(\"Hint:The Number is Greater than Your Guessed Number\")\n",
        "\n",
        "  if(random_no<30):\n",
        "    print(\"number is less than 30\")\n",
        "  elif(random_no>15 and random_no<25):\n",
        "     print(\"number is in range between 15 and 25\")\n",
        "\n",
        "  if(random_no>50 and random_no<75):\n",
        "     print(\"number is less than 75 and greater than 50\")\n",
        "\n",
        "  elif(random_no>75 and random_no<100):\n",
        "   print(\"number is in range between 75 and 100\")\n",
        "\n",
        "  if(random_no%2==0):\n",
        "   print(\"It is an even number\")\n",
        "\n",
        "  else:\n",
        "   print(\"It is an odd number\")\n",
        "\n",
        "   if(random_no%5==0):\n",
        "     print(\"it is divisible of 5\")\n",
        "   \n",
        "   else:\n",
        "     print(\"Sorry you lost!\")\n",
        "\n"
      ],
      "metadata": {
        "id": "68eD3-TUiDrj",
        "colab": {
          "base_uri": "https://localhost:8080/"
        },
        "outputId": "8dd4bb8d-5080-418a-bdf9-d33227dfe698"
      },
      "execution_count": null,
      "outputs": [
        {
          "output_type": "stream",
          "name": "stdout",
          "text": [
            "______________Welcome to number Guessing________________\n",
            "Enter your name:ishita\n",
            "Hi ishita\n",
            "......................................................\n",
            "Enter any number between 1 to 100:56\n",
            "You have exausted 1 turn,remaining  4 chances left\n",
            "Hint:The Number is Greater than Your Guessed Number\n",
            "number is in range between 75 and 100\n",
            "It is an even number\n",
            "......................................................\n",
            "Enter any number between 1 to 100:80\n",
            "You have exausted 1 turn,remaining  3 chances left\n",
            "Hint:The Number is Smaller than Your Guessed Number\n",
            "......................................................\n",
            "Enter any number between 1 to 100:78\n",
            "You have exausted 1 turn,remaining  2 chances left\n",
            "Congratulations! You Guessed Right :) \n"
          ]
        }
      ]
    }
  ]
}